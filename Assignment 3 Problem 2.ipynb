{
 "cells": [
  {
   "cell_type": "code",
   "execution_count": null,
   "id": "3041c7ee",
   "metadata": {},
   "outputs": [],
   "source": [
    "#Write a Python program to reverse a string.\n"
   ]
  },
  {
   "cell_type": "code",
   "execution_count": 1,
   "id": "e0b1b232",
   "metadata": {},
   "outputs": [
    {
     "name": "stdout",
     "output_type": "stream",
     "text": [
      "Original string: 1234abcd\n",
      "Reverse strig: dcba4321\n"
     ]
    }
   ],
   "source": [
    "#Defining Reverse \n",
    "def reverse(itr):\n",
    "  return itr[::-1]\n",
    "\n",
    "#Creating string\n",
    "str1 = '1234abcd'\n",
    "\n",
    "#Printing original string\n",
    "print(\"Original string:\",str1)\n",
    "\n",
    "#Printing Reverse string\n",
    "print(\"Reverse strig:\",reverse('1234abcd'))"
   ]
  },
  {
   "cell_type": "code",
   "execution_count": null,
   "id": "3bb55231",
   "metadata": {},
   "outputs": [],
   "source": []
  }
 ],
 "metadata": {
  "kernelspec": {
   "display_name": "Python 3 (ipykernel)",
   "language": "python",
   "name": "python3"
  },
  "language_info": {
   "codemirror_mode": {
    "name": "ipython",
    "version": 3
   },
   "file_extension": ".py",
   "mimetype": "text/x-python",
   "name": "python",
   "nbconvert_exporter": "python",
   "pygments_lexer": "ipython3",
   "version": "3.7.0"
  }
 },
 "nbformat": 4,
 "nbformat_minor": 5
}
